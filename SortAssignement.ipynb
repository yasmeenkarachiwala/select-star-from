{
 "cells": [
  {
   "cell_type": "code",
   "execution_count": 50,
   "metadata": {},
   "outputs": [],
   "source": [
    "class Sorting():\n",
    "    \n",
    "    \n",
    "    def __init__(self,number):\n",
    "        \n",
    "        self.number = number\n",
    "        \n",
    "    def Ascending(self):\n",
    "        for j in range(len(self.number)-1):\n",
    "            for i in range(len(self.number)-1-j):\n",
    "                if self.number[i]>self.number[i+1]:\n",
    "                    (self.number[i],self.number[i+1])=(self.number[i+1],self.number[i])\n",
    "                    \n",
    "        print(\"This is the sorted list in Ascending order {}\".format(self.number))\n",
    "        \n",
    "        \n",
    "    def Descending(self):\n",
    "        for j in range(len(self.number)-1):\n",
    "            for i in range(len(self.number)-1-j):\n",
    "                if self.number[i]<self.number[i+1]:\n",
    "                    (self.number[i+1],self.number[i])=(self.number[i],self.number[i+1])\n",
    "                    \n",
    "        print(\"This is the sorted list in Descending order {}\".format(self.number))\n",
    "                \n",
    "        \n",
    "  "
   ]
  },
  {
   "cell_type": "code",
   "execution_count": 51,
   "metadata": {},
   "outputs": [],
   "source": [
    "lst_1 = Sorting([1,2,9,7,8])"
   ]
  },
  {
   "cell_type": "code",
   "execution_count": 52,
   "metadata": {},
   "outputs": [
    {
     "data": {
      "text/plain": [
       "[1, 2, 9, 7, 8]"
      ]
     },
     "execution_count": 52,
     "metadata": {},
     "output_type": "execute_result"
    }
   ],
   "source": [
    "lst_1.number"
   ]
  },
  {
   "cell_type": "code",
   "execution_count": 53,
   "metadata": {},
   "outputs": [
    {
     "name": "stdout",
     "output_type": "stream",
     "text": [
      "This is the sorted list in Ascending order [1, 2, 7, 8, 9]\n"
     ]
    }
   ],
   "source": [
    "lst_1.Ascending()"
   ]
  },
  {
   "cell_type": "code",
   "execution_count": 54,
   "metadata": {},
   "outputs": [
    {
     "name": "stdout",
     "output_type": "stream",
     "text": [
      "This is the sorted list in Descending order [9, 8, 7, 2, 1]\n"
     ]
    }
   ],
   "source": [
    "lst_1.Descending()"
   ]
  },
  {
   "cell_type": "code",
   "execution_count": null,
   "metadata": {},
   "outputs": [],
   "source": []
  },
  {
   "cell_type": "code",
   "execution_count": null,
   "metadata": {},
   "outputs": [],
   "source": []
  },
  {
   "cell_type": "code",
   "execution_count": null,
   "metadata": {},
   "outputs": [],
   "source": []
  },
  {
   "cell_type": "code",
   "execution_count": null,
   "metadata": {},
   "outputs": [],
   "source": []
  },
  {
   "cell_type": "code",
   "execution_count": null,
   "metadata": {},
   "outputs": [],
   "source": []
  },
  {
   "cell_type": "code",
   "execution_count": null,
   "metadata": {},
   "outputs": [],
   "source": []
  },
  {
   "cell_type": "code",
   "execution_count": null,
   "metadata": {},
   "outputs": [],
   "source": []
  },
  {
   "cell_type": "code",
   "execution_count": null,
   "metadata": {},
   "outputs": [],
   "source": []
  },
  {
   "cell_type": "code",
   "execution_count": null,
   "metadata": {},
   "outputs": [],
   "source": []
  }
 ],
 "metadata": {
  "kernelspec": {
   "display_name": "Python 3",
   "language": "python",
   "name": "python3"
  },
  "language_info": {
   "codemirror_mode": {
    "name": "ipython",
    "version": 3
   },
   "file_extension": ".py",
   "mimetype": "text/x-python",
   "name": "python",
   "nbconvert_exporter": "python",
   "pygments_lexer": "ipython3",
   "version": "3.7.3"
  }
 },
 "nbformat": 4,
 "nbformat_minor": 2
}
